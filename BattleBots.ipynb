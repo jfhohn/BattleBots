{
 "cells": [
  {
   "cell_type": "markdown",
   "metadata": {},
   "source": [
    "# COGS 18 Final Project - BattleBots\n",
    "\n",
    "## Project Description:\n",
    "Battlebots was inspired by the recent popularity of the autobattler game genre \n",
    "and first person shooter game modes like free-for-all and team deathmatch.\n",
    "\n",
    "The implementation of the project was derived from a COGS 18 assignment that\n",
    "created artificial agents to move around on a grid.\n",
    "\n",
    "In BattleBots, the user is able to select what kind of game mode they would \n",
    "like to watch, the number of bots to compete (free for all only), the type\n",
    "of bots that compete, and the size of the grid the bots compete on, and \n",
    "points required to win (team deathmatch only)\n",
    "\n",
    "#### Movement around the grid:\n",
    "Each of the five types of bots have different ways they can move on the grid.\n",
    "During every iteration of the game, the grid is redrawn. At every iteration, \n",
    "each bot's next move is updated and reflected in symbols moving around the grid.\n",
    "Functions are in place to ensure the bots stay within the grid.\n",
    "\n",
    "#### Battling:\n",
    "During every iteration of the grid, the competing bots check to see if they \n",
    "share a position with another bot. Ignoring friendly fire, each pair is then\n",
    "sent to battle and has a 50/50 chance of winning. Depending on the game mode,\n",
    "bots will either be removed from the game, or respawn at their starting position.\n",
    "\n",
    "#### End of game: \n",
    "Free for all ends when there is only one bot remaining. Team deathmatch ends \n",
    "when one team reaches to requried score to win\n",
    "\n",
    "#### Future directions:\n",
    "There were several things I wanted to try in my project, but didn't have time to implement.\n",
    "- power ups (more percentage to win, 'upgrading' to a different bot\n",
    "- debuffs(lower percentage to win in battle, spots that make bots lose points for their team)\n",
    "- more game modes(Capture the flag, timed team deathmatch, autobattler upgrading units mode)\n"
   ]
  },
  {
   "cell_type": "code",
   "execution_count": 13,
   "metadata": {},
   "outputs": [],
   "source": [
    "from my_modules.bot_game_functions import add_lists, check_bounds, WanderBot, ExploreBot, TeleportBot, \\\n",
    "                                          DiagonalBot, FastBot, assign_teams, game_starting_position, \\\n",
    "                                          check_positions, battle, destroy_bot, respawn,  bot_type, update_score, \\\n",
    "                                          display_winner, free_for_all, team_deathmatch\n",
    "\n",
    "import random\n",
    "from time import sleep\n",
    "from IPython.display import clear_output\n"
   ]
  },
  {
   "cell_type": "markdown",
   "metadata": {},
   "source": [
    "### Demo of free for all"
   ]
  },
  {
   "cell_type": "code",
   "execution_count": 15,
   "metadata": {},
   "outputs": [
    {
     "name": "stdout",
     "output_type": "stream",
     "text": [
      ". . . . . .\n",
      ". . . . . .\n",
      ". ᝰ . . . .\n",
      ". . . . . .\n",
      ". . . . . .\n",
      ". . . . . .\n",
      "Congratulations to diagonal bot for coming in first place. Please play again soon!\n"
     ]
    }
   ],
   "source": [
    "#initialize bots to compete\n",
    "ffa_bots = [ExploreBot(character = 1000), TeleportBot(character = 2000), WanderBot(character = 3000),\n",
    "        DiagonalBot(character = 4000), FastBot(character = 5000), TeleportBot(character = 6000),\n",
    "        WanderBot(character = 7000), DiagonalBot(character = 8000), DiagonalBot(character = 9000)]\n",
    "\n",
    "#play the game\n",
    "free_for_all(ffa_bots, grid_size = 6)\n"
   ]
  },
  {
   "cell_type": "markdown",
   "metadata": {},
   "source": [
    "### Demo of team deathmatch"
   ]
  },
  {
   "cell_type": "code",
   "execution_count": 24,
   "metadata": {},
   "outputs": [
    {
     "name": "stdout",
     "output_type": "stream",
     "text": [
      ". . . . . . . . ὀ .\n",
      ". . . . . . . . . .\n",
      ". . . . . . . . . .\n",
      ". . . . . ᎈ . . . .\n",
      ". . . . . . . . . .\n",
      ". . . . . . . . . .\n",
      ". . ὀ . . . . . . ᎈ\n",
      "ὀ . . . . . . . . .\n",
      ". . . . . . . . . .\n",
      ". . . . . . . . . .\n",
      "Congratulations to the red team for beating the blue team with a final score of 7 to 1. See you next time!\n"
     ]
    },
    {
     "data": {
      "text/plain": [
       "[7, 1]"
      ]
     },
     "execution_count": 24,
     "metadata": {},
     "output_type": "execute_result"
    }
   ],
   "source": [
    "#initialize bots to compete\n",
    "tdm_bots = [ExploreBot(character = 5000), TeleportBot(character = 8000), DiagonalBot(character = 5000),\n",
    "        DiagonalBot(character = 8000), FastBot(character = 5000), TeleportBot(character = 8000)]\n",
    "\n",
    "#play the game\n",
    "team_deathmatch(tdm_bots, grid_size = 10, points_to_win = 7)"
   ]
  }
 ],
 "metadata": {
  "kernelspec": {
   "display_name": "Python 3",
   "language": "python",
   "name": "python3"
  },
  "language_info": {
   "codemirror_mode": {
    "name": "ipython",
    "version": 3
   },
   "file_extension": ".py",
   "mimetype": "text/x-python",
   "name": "python",
   "nbconvert_exporter": "python",
   "pygments_lexer": "ipython3",
   "version": "3.7.1"
  }
 },
 "nbformat": 4,
 "nbformat_minor": 2
}
