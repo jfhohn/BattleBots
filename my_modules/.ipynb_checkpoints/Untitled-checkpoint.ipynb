{
 "cells": [
  {
   "cell_type": "code",
   "execution_count": null,
   "metadata": {},
   "outputs": [],
   "source": [
    "from bots import WanderBot, ExploreBot, TeleportBot, DiagonalBot, FastBot\n",
    "from game_functions import assign_teams, game_starting_position, check_positions, \\\n",
    "                           battle, destroy_bot, respawn,  bot_type, update_score, \\\n",
    "                           display_winner, free_for_all, team_deathmatch\n",
    "# from game_functions import *"
   ]
  },
  {
   "cell_type": "code",
   "execution_count": null,
   "metadata": {},
   "outputs": [],
   "source": [
    "game_mode = input('What game mode would you like to play?' \\\n",
    "                      '\\nA) Free for all\\nB)Team Deathmatch')"
   ]
  },
  {
   "cell_type": "code",
   "execution_count": null,
   "metadata": {},
   "outputs": [],
   "source": [
    "print(fbot.position)"
   ]
  },
  {
   "cell_type": "code",
   "execution_count": 1,
   "metadata": {},
   "outputs": [],
   "source": [
    "import random\n"
   ]
  },
  {
   "cell_type": "code",
   "execution_count": 5,
   "metadata": {},
   "outputs": [
    {
     "data": {
      "text/plain": [
       "6231"
      ]
     },
     "execution_count": 5,
     "metadata": {},
     "output_type": "execute_result"
    }
   ],
   "source": [
    "int(random.random()*10000)"
   ]
  },
  {
   "cell_type": "code",
   "execution_count": null,
   "metadata": {},
   "outputs": [],
   "source": [
    "def choose_bots(num_bots, game_mode):\n",
    "    \"\"\"allow user to choose what bots compete\n",
    "    \n",
    "    Parameters\n",
    "    ------------\n",
    "    num_bots : int\n",
    "        defines how many bots are competing\n",
    "    game_mode : string\n",
    "        defines what game user is playing (ffa or tdm)\n",
    "        \n",
    "    Returns\n",
    "    -------------\n",
    "    bots : list of Bot() type\n",
    "        all the bots competing in the game\"\"\"\n",
    "    \n",
    "    #initialize empty bots list\n",
    "    bots = []\n",
    "    \n",
    "    #loop while len(bots) < #  of bots\n",
    "    while len(bots) < len(range(num_bots)):\n",
    "                \n",
    "        temp_type = input('Please pick a bot type:\\n' \\\n",
    "                          'A) WanderBot\\nB) ExploreBot' \\\n",
    "                          '\\nC) TeleportBot\\nD) DiagonalBot'\\\n",
    "                          '\\nE) FastBot')\n",
    "            \n",
    "        #give bot random symbol\n",
    "        temp_char = int(random.random()*10000)\n",
    "               \n",
    "        # create bots list to play\n",
    "        if str.lower(temp_type) == 'a':\n",
    "            bots.append(WanderBot(character = temp_char))\n",
    "               \n",
    "        if str.lower(temp_type) == 'b':\n",
    "            bots.append(ExploreBot(character = temp_char))\n",
    "             \n",
    "        if str.lower(temp_type) == 'c':\n",
    "            bots.append(TeleportBot(character = temp_char))\n",
    "                \n",
    "        if str.lower(temp_type) == 'd':\n",
    "            bots.append(DiagonalBot(character = temp_char))\n",
    "            \n",
    "        if str.lower(temp_type) == 'e':\n",
    "            bots.append(FastBot(character = temp_char))\n",
    "    \n",
    "    return bots\n",
    "\n",
    "    "
   ]
  },
  {
   "cell_type": "code",
   "execution_count": null,
   "metadata": {},
   "outputs": [],
   "source": []
  }
 ],
 "metadata": {
  "kernelspec": {
   "display_name": "Python 3",
   "language": "python",
   "name": "python3"
  },
  "language_info": {
   "codemirror_mode": {
    "name": "ipython",
    "version": 3
   },
   "file_extension": ".py",
   "mimetype": "text/x-python",
   "name": "python",
   "nbconvert_exporter": "python",
   "pygments_lexer": "ipython3",
   "version": "3.7.1"
  }
 },
 "nbformat": 4,
 "nbformat_minor": 2
}
